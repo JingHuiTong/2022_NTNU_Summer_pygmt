{
 "cells": [
  {
   "cell_type": "markdown",
   "id": "31c561e9-c3b1-4827-b400-ca547997a608",
   "metadata": {},
   "source": [
    "# Python 101- glob, pandas, if \n",
    "\n",
    "###### Jing-Hui Tong 2022/06/16"
   ]
  },
  {
   "cell_type": "code",
   "execution_count": 1,
   "id": "e56011ef-464a-4bff-8069-8061996c2224",
   "metadata": {},
   "outputs": [],
   "source": [
    "import glob\n",
    "import pandas as pd\n",
    "import numpy as np"
   ]
  },
  {
   "cell_type": "code",
   "execution_count": 38,
   "id": "34ba479b-00d3-457b-9c00-10f9e12ef8bb",
   "metadata": {},
   "outputs": [],
   "source": [
    "datapath = '/Volumes/OBS_Data'\n",
    "network = 'ET'"
   ]
  },
  {
   "cell_type": "markdown",
   "id": "7a1e4dfa-3807-4e2f-beca-932979651b72",
   "metadata": {},
   "source": [
    "### glob 抓取路徑下檔案名稱\n",
    "看看這些指令有什麼差別？"
   ]
  },
  {
   "cell_type": "code",
   "execution_count": 39,
   "id": "40ce12fb-a7cc-4b0c-a3fe-7e58ce8526a6",
   "metadata": {},
   "outputs": [
    {
     "data": {
      "text/plain": [
       "['/Volumes/OBS_Data/ET/ET05',\n",
       " '/Volumes/OBS_Data/ET/ET03',\n",
       " '/Volumes/OBS_Data/ET/ET07',\n",
       " '/Volumes/OBS_Data/ET/ET_stations_info.csv',\n",
       " '/Volumes/OBS_Data/ET/00_ET_PZs',\n",
       " '/Volumes/OBS_Data/ET/00_ET_Data_quality',\n",
       " '/Volumes/OBS_Data/ET/00_ET_Oritation_angle']"
      ]
     },
     "execution_count": 39,
     "metadata": {},
     "output_type": "execute_result"
    }
   ],
   "source": [
    "glob.glob(f'{datapath}/{network}/*')"
   ]
  },
  {
   "cell_type": "code",
   "execution_count": 40,
   "id": "0f906cc7-6338-4d52-928c-2d88b31c7618",
   "metadata": {},
   "outputs": [
    {
     "data": {
      "text/plain": [
       "['/Volumes/OBS_Data/ET/ET05',\n",
       " '/Volumes/OBS_Data/ET/ET03',\n",
       " '/Volumes/OBS_Data/ET/ET07',\n",
       " '/Volumes/OBS_Data/ET/ET_stations_info.csv']"
      ]
     },
     "execution_count": 40,
     "metadata": {},
     "output_type": "execute_result"
    }
   ],
   "source": [
    "glob.glob(f'{datapath}/{network}/ET*')"
   ]
  },
  {
   "cell_type": "code",
   "execution_count": 41,
   "id": "abcfe488-2f11-4d9f-bcd8-b1d4190646d9",
   "metadata": {},
   "outputs": [
    {
     "data": {
      "text/plain": [
       "['/Volumes/OBS_Data/ET/ET05',\n",
       " '/Volumes/OBS_Data/ET/ET03',\n",
       " '/Volumes/OBS_Data/ET/ET07']"
      ]
     },
     "execution_count": 41,
     "metadata": {},
     "output_type": "execute_result"
    }
   ],
   "source": [
    "glob.glob(f'{datapath}/{network}/ET??')"
   ]
  },
  {
   "cell_type": "code",
   "execution_count": 42,
   "id": "b37f47d8-0849-45bb-96f7-873671df29d0",
   "metadata": {},
   "outputs": [
    {
     "data": {
      "text/plain": [
       "['/Volumes/OBS_Data/ET/ET03',\n",
       " '/Volumes/OBS_Data/ET/ET05',\n",
       " '/Volumes/OBS_Data/ET/ET07']"
      ]
     },
     "execution_count": 42,
     "metadata": {},
     "output_type": "execute_result"
    }
   ],
   "source": [
    "sorted(glob.glob(f'{datapath}/{network}/ET??'))"
   ]
  },
  {
   "cell_type": "code",
   "execution_count": 43,
   "id": "a434b7aa-634b-4307-a41b-e790eca5543c",
   "metadata": {},
   "outputs": [
    {
     "data": {
      "text/plain": [
       "['/Volumes/OBS_Data/ET/ET_stations_info.csv']"
      ]
     },
     "execution_count": 43,
     "metadata": {},
     "output_type": "execute_result"
    }
   ],
   "source": [
    "glob.glob(f'{datapath}/{network}/*csv')"
   ]
  },
  {
   "cell_type": "code",
   "execution_count": 44,
   "id": "f4cc0c42-546f-412d-852a-7d42249ea957",
   "metadata": {},
   "outputs": [
    {
     "data": {
      "text/plain": [
       "['/Volumes/OBS_Data/ET/00_ET_PZs/SAC_PZs_ET_ET03_HH1__2020.330.00.00.00.0000_2021.279.23.59.59.99999',\n",
       " '/Volumes/OBS_Data/ET/00_ET_PZs/SAC_PZs_ET_ET03_HH2__2020.330.00.00.00.0000_2021.279.23.59.59.99999',\n",
       " '/Volumes/OBS_Data/ET/00_ET_PZs/SAC_PZs_ET_ET03_HHZ__2020.330.00.00.00.0000_2021.279.23.59.59.99999',\n",
       " '/Volumes/OBS_Data/ET/00_ET_PZs/SAC_PZs_ET_ET05_HH1__2020.330.00.00.00.0000_2021.279.23.59.59.99999',\n",
       " '/Volumes/OBS_Data/ET/00_ET_PZs/SAC_PZs_ET_ET05_HH2__2020.330.00.00.00.0000_2021.279.23.59.59.99999',\n",
       " '/Volumes/OBS_Data/ET/00_ET_PZs/SAC_PZs_ET_ET05_HHZ__2020.330.00.00.00.0000_2021.279.23.59.59.99999',\n",
       " '/Volumes/OBS_Data/ET/00_ET_PZs/SAC_PZs_ET_ET07_HH1__2020.330.00.00.00.0000_2021.279.23.59.59.99999',\n",
       " '/Volumes/OBS_Data/ET/00_ET_PZs/SAC_PZs_ET_ET07_HH2__2020.330.00.00.00.0000_2021.279.23.59.59.99999',\n",
       " '/Volumes/OBS_Data/ET/00_ET_PZs/SAC_PZs_ET_ET07_HHZ__2020.330.00.00.00.0000_2021.279.23.59.59.99999',\n",
       " '/Volumes/OBS_Data/ET/00_ET_PZs/SAC_PZs_Y1506_HHP',\n",
       " '/Volumes/OBS_Data/ET/00_ET_PZs/SAC_PZs_Y1506_HHP_TORILOGGER',\n",
       " '/Volumes/OBS_Data/ET/00_ET_Data_quality/01_ET_PSD',\n",
       " '/Volumes/OBS_Data/ET/00_ET_Data_quality/02_ET_Recordplot',\n",
       " '/Volumes/OBS_Data/ET/00_ET_Oritation_angle/ET_ori_ang_Patty_20220322.csv']"
      ]
     },
     "execution_count": 44,
     "metadata": {},
     "output_type": "execute_result"
    }
   ],
   "source": [
    "glob.glob(f'{datapath}/{network}/00*/*')"
   ]
  },
  {
   "cell_type": "markdown",
   "id": "7f88c4ad-b89e-46c9-a749-c4f1ff34fb5c",
   "metadata": {},
   "source": [
    "## 看NAS檔案"
   ]
  },
  {
   "cell_type": "code",
   "execution_count": 45,
   "id": "fd1632e8-e497-46b7-ab48-7dbf8b1da260",
   "metadata": {},
   "outputs": [],
   "source": [
    "network = 'OT'"
   ]
  },
  {
   "cell_type": "code",
   "execution_count": 1,
   "id": "91d782e7-5c42-429c-84b1-b9a9ce34f084",
   "metadata": {},
   "outputs": [
    {
     "ename": "NameError",
     "evalue": "name 'glob' is not defined",
     "output_type": "error",
     "traceback": [
      "\u001b[0;31m---------------------------------------------------------------------------\u001b[0m",
      "\u001b[0;31mNameError\u001b[0m                                 Traceback (most recent call last)",
      "\u001b[0;32m/var/folders/sp/pnngww1n0q31w2plgbk53rc00000gn/T/ipykernel_89563/4076136486.py\u001b[0m in \u001b[0;36m<module>\u001b[0;34m\u001b[0m\n\u001b[0;32m----> 1\u001b[0;31m \u001b[0;32mfor\u001b[0m \u001b[0mSTApath\u001b[0m \u001b[0;32min\u001b[0m \u001b[0msorted\u001b[0m\u001b[0;34m(\u001b[0m\u001b[0mglob\u001b[0m\u001b[0;34m.\u001b[0m\u001b[0mglob\u001b[0m\u001b[0;34m(\u001b[0m\u001b[0;34mf'{datapath}/{network}/OT??'\u001b[0m\u001b[0;34m)\u001b[0m\u001b[0;34m)\u001b[0m\u001b[0;34m:\u001b[0m\u001b[0;34m\u001b[0m\u001b[0;34m\u001b[0m\u001b[0m\n\u001b[0m\u001b[1;32m      2\u001b[0m     \u001b[0mprint\u001b[0m\u001b[0;34m(\u001b[0m\u001b[0mSTApath\u001b[0m\u001b[0;34m)\u001b[0m\u001b[0;34m\u001b[0m\u001b[0;34m\u001b[0m\u001b[0m\n\u001b[1;32m      3\u001b[0m     \u001b[0mSTA\u001b[0m \u001b[0;34m=\u001b[0m \u001b[0mSTApath\u001b[0m\u001b[0;34m.\u001b[0m\u001b[0mrsplit\u001b[0m\u001b[0;34m(\u001b[0m\u001b[0;34m'/'\u001b[0m\u001b[0;34m)\u001b[0m\u001b[0;34m[\u001b[0m\u001b[0;34m-\u001b[0m\u001b[0;36m1\u001b[0m\u001b[0;34m]\u001b[0m\u001b[0;34m\u001b[0m\u001b[0;34m\u001b[0m\u001b[0m\n\u001b[1;32m      4\u001b[0m \u001b[0;34m\u001b[0m\u001b[0m\n\u001b[1;32m      5\u001b[0m \u001b[0;31m#     for yyyypath in sorted(glob.glob(f'{STApath}/Data/????')):\u001b[0m\u001b[0;34m\u001b[0m\u001b[0;34m\u001b[0m\u001b[0;34m\u001b[0m\u001b[0m\n",
      "\u001b[0;31mNameError\u001b[0m: name 'glob' is not defined"
     ]
    }
   ],
   "source": [
    "for STApath in sorted(glob.glob(f'{datapath}/{network}/OT??')):\n",
    "    print(STApath)\n",
    "    STA = STApath.rsplit('/')[-1]\n",
    "    \n",
    "#     for yyyypath in sorted(glob.glob(f'{STApath}/Data/????')):\n",
    "\n",
    "# short partices: please print the first 10 Z comp. path from all station/year/day"
   ]
  },
  {
   "cell_type": "markdown",
   "id": "708196e0-2875-4660-953b-b1c0b12cc861",
   "metadata": {},
   "source": [
    "### if condition \n",
    "https://medium.com/ccclub/ccclub-python-for-beginners-tutorial-ae8becaf165e"
   ]
  },
  {
   "cell_type": "code",
   "execution_count": 47,
   "id": "b81678a1-fdb0-4a02-8b0d-41283dfde0e1",
   "metadata": {
    "collapsed": true,
    "jupyter": {
     "outputs_hidden": true
    },
    "tags": []
   },
   "outputs": [
    {
     "name": "stdout",
     "output_type": "stream",
     "text": [
      "/Volumes/OBS_Data/BO/AMM_/Data/2018/365\n",
      "/Volumes/OBS_Data/BO/KGM/Data/2018/365\n",
      "/Volumes/OBS_Data/BO/KYK/Data/2018/365\n",
      "/Volumes/OBS_Data/BO/TAS/Data/2018/365\n",
      "/Volumes/OBS_Data/ET/ET03/Data/2020/365\n",
      "/Volumes/OBS_Data/ET/ET05/Data/2020/365\n",
      "/Volumes/OBS_Data/ET/ET07/Data/2020/365\n",
      "/Volumes/OBS_Data/OT/OT01/Data/2018/365\n",
      "/Volumes/OBS_Data/OT/OT02/Data/2018/365\n",
      "/Volumes/OBS_Data/OT/OT03/Data/2018/365\n",
      "/Volumes/OBS_Data/OT/OT04/Data/2018/365\n",
      "/Volumes/OBS_Data/OT/OT05/Data/2018/365\n",
      "/Volumes/OBS_Data/OT/OT06/Data/2018/365\n",
      "/Volumes/OBS_Data/OT/OT07/Data/2018/365\n",
      "/Volumes/OBS_Data/OT/OT11/Data/2018/365\n",
      "/Volumes/OBS_Data/OT/OT12/Data/2018/365\n",
      "/Volumes/OBS_Data/OT/OT13/Data/2018/365\n",
      "/Volumes/OBS_Data/OT/OT14/Data/2018/365\n",
      "/Volumes/OBS_Data/OT/OT16/Data/2018/365\n",
      "/Volumes/OBS_Data/OT/OT17/Data/2018/365\n",
      "/Volumes/OBS_Data/OT/OT18/Data/2018/365\n",
      "/Volumes/OBS_Data/OT/OT19/Data/2018/365\n",
      "/Volumes/OBS_Data/OT/OT21/Data/2018/365\n",
      "/Volumes/OBS_Data/OT/OT23/Data/2018/365\n",
      "/Volumes/OBS_Data/OT/OT24/Data/2018/365\n",
      "/Volumes/OBS_Data/OT/OT25/Data/2018/365\n",
      "/Volumes/OBS_Data/OT/OT27/Data/2018/365\n",
      "/Volumes/OBS_Data/OT/OT28/Data/2018/365\n",
      "/Volumes/OBS_Data/OT/OT29/Data/2018/365\n",
      "/Volumes/OBS_Data/OT/OT30/Data/2018/365\n",
      "/Volumes/OBS_Data/OT/OT31/Data/2018/365\n",
      "/Volumes/OBS_Data/OT/OT33/Data/2018/365\n",
      "/Volumes/OBS_Data/OT/OT34/Data/2018/365\n",
      "/Volumes/OBS_Data/OT/Y1507/Data/2015/365\n",
      "/Volumes/OBS_Data/OT/Y1508/Data/2015/365\n",
      "/Volumes/OBS_Data/OT/Y1509/Data/2015/365\n",
      "/Volumes/OBS_Data/OT/Y1601/Data/2016/365\n",
      "/Volumes/OBS_Data/OT/Y1602/Data/2016/365\n",
      "/Volumes/OBS_Data/OT/Y1603/Data/2016/365\n",
      "/Volumes/OBS_Data/OT/Y1604/Data/2016/365\n",
      "/Volumes/OBS_Data/OT/Y1605/Data/2016/365\n",
      "/Volumes/OBS_Data/OT/Y1606/Data/2016/365\n",
      "/Volumes/OBS_Data/PS/GMZK/Data/2018/365\n",
      "/Volumes/OBS_Data/PS/MNTN/Data/2018/365\n",
      "/Volumes/OBS_Data/TW/L0901/Data/2009/365\n",
      "/Volumes/OBS_Data/TW/L0903/Data/2009/365\n",
      "/Volumes/OBS_Data/TW/L0905/Data/2009/365\n",
      "/Volumes/OBS_Data/TW/L1002/Data/2010/365\n",
      "/Volumes/OBS_Data/TW/L1004/Data/2010/365\n",
      "/Volumes/OBS_Data/TW/L1005/Data/2010/365\n",
      "/Volumes/OBS_Data/TW/L1006/Data/2010/365\n",
      "/Volumes/OBS_Data/TW/L1101/Data/2011/365\n",
      "/Volumes/OBS_Data/TW/L1102/Data/2011/365\n",
      "/Volumes/OBS_Data/TW/L1104/Data/2011/365\n",
      "/Volumes/OBS_Data/TW/L1105/Data/2011/365\n",
      "/Volumes/OBS_Data/TW/L1106/Data/2011/365\n",
      "/Volumes/OBS_Data/TW/L1201/Data/2012/365\n",
      "/Volumes/OBS_Data/TW/L1204/Data/2012/365\n",
      "/Volumes/OBS_Data/TW/L1211/Data/2012/365\n",
      "/Volumes/OBS_Data/TW/LYUB/Data/2019/365\n",
      "/Volumes/OBS_Data/TW/LYUB/Data/2020/365\n",
      "/Volumes/OBS_Data/TW/MASB/Data/2019/365\n",
      "/Volumes/OBS_Data/TW/MASB/Data/2020/365\n",
      "/Volumes/OBS_Data/TW/NACB/Data/2019/365\n",
      "/Volumes/OBS_Data/TW/NACB/Data/2020/365\n",
      "/Volumes/OBS_Data/TW/NACB/Data/2021/365\n",
      "/Volumes/OBS_Data/TW/S002/Data/2006/365\n",
      "/Volumes/OBS_Data/TW/S004/Data/2006/365\n",
      "/Volumes/OBS_Data/TW/S005/Data/2007/365\n",
      "/Volumes/OBS_Data/TW/S02/Data/2019/365\n",
      "/Volumes/OBS_Data/TW/S05/Data/2019/365\n",
      "/Volumes/OBS_Data/TW/S1001/Data/2010/365\n",
      "/Volumes/OBS_Data/TW/S12/Data/2019/365\n",
      "/Volumes/OBS_Data/TW/S13/Data/2019/365\n",
      "/Volumes/OBS_Data/TW/S15/Data/2019/365\n",
      "/Volumes/OBS_Data/TW/S17/Data/2019/365\n",
      "/Volumes/OBS_Data/TW/SYNB/Data/2019/365\n",
      "/Volumes/OBS_Data/TW/SYNB/Data/2020/365\n",
      "/Volumes/OBS_Data/TW/TPUB/Data/2019/365\n",
      "/Volumes/OBS_Data/TW/TPUB/Data/2020/365\n",
      "/Volumes/OBS_Data/TW/TPUB/Data/2021/365\n",
      "/Volumes/OBS_Data/TW/TWGB/Data/2019/365\n",
      "/Volumes/OBS_Data/TW/TWGB/Data/2020/365\n",
      "/Volumes/OBS_Data/TW/TWGB/Data/2021/365\n",
      "/Volumes/OBS_Data/TW/TWKB/Data/2020/365\n",
      "/Volumes/OBS_Data/TW/Y1707/Data/2017/365\n",
      "/Volumes/OBS_Data/TW/Y1709/Data/2017/365\n",
      "/Volumes/OBS_Data/TW/Y1711/Data/2017/365\n",
      "/Volumes/OBS_Data/TW/Y1712/Data/2017/365\n",
      "/Volumes/OBS_Data/TW/YULB/Data/2019/365\n",
      "/Volumes/OBS_Data/TW/YULB/Data/2020/365\n",
      "/Volumes/OBS_Data/TW/YULB/Data/2021/365\n",
      "/Volumes/OBS_Data/YM/01/Data/2008/365\n",
      "/Volumes/OBS_Data/YM/02/Data/2008/365\n",
      "/Volumes/OBS_Data/YM/04/Data/2008/365\n",
      "/Volumes/OBS_Data/YM/09/Data/2008/365\n",
      "/Volumes/OBS_Data/YM/10/Data/2008/365\n",
      "/Volumes/OBS_Data/YM/11/Data/2008/365\n",
      "/Volumes/OBS_Data/YM/12/Data/2008/365\n",
      "/Volumes/OBS_Data/YM/18/Data/2007_/365\n",
      "/Volumes/OBS_Data/YM/18/Data/2008/365\n",
      "/Volumes/OBS_Data/YM/19/Data/2008/365\n",
      "/Volumes/OBS_Data/YM/22/Data/2007/365\n",
      "/Volumes/OBS_Data/YM/25/Data/2008/365\n",
      "/Volumes/OBS_Data/YM/26/Data/2007/365\n",
      "/Volumes/OBS_Data/YM/27/Data/2008/365\n",
      "/Volumes/OBS_Data/YM/28/Data/2008/365\n",
      "/Volumes/OBS_Data/YM/30/Data/2007/365\n",
      "/Volumes/OBS_Data/YM/33/Data/2008/365\n",
      "/Volumes/OBS_Data/YM/35/Data/2008/365\n",
      "/Volumes/OBS_Data/YM/37/Data/2008/365\n",
      "/Volumes/OBS_Data/YM/38/Data/2008/365\n",
      "/Volumes/OBS_Data/YM/39/Data/2008/365\n",
      "/Volumes/OBS_Data/ZA/A25/Data/2011/365\n",
      "/Volumes/OBS_Data/ZA/A26/Data/2011/365\n",
      "/Volumes/OBS_Data/ZA/A27/Data/2011/365\n",
      "/Volumes/OBS_Data/ZA/B01/Data/2011/365\n",
      "/Volumes/OBS_Data/ZA/B02/Data/2011/365\n",
      "/Volumes/OBS_Data/ZA/B04/Data/2011/365\n",
      "/Volumes/OBS_Data/ZA/B05/Data/2011/365\n",
      "/Volumes/OBS_Data/ZA/B06/Data/2011/365\n",
      "/Volumes/OBS_Data/ZA/B07/Data/2011/365\n",
      "/Volumes/OBS_Data/ZA/B08/Data/2011/365\n",
      "/Volumes/OBS_Data/ZA/B11/Data/2011/365\n",
      "/Volumes/OBS_Data/ZA/B11/Data/2012/365\n",
      "/Volumes/OBS_Data/ZA/B13/Data/2011/365\n",
      "/Volumes/OBS_Data/ZA/B14/Data/2011/365\n",
      "/Volumes/OBS_Data/ZA/B14/Data/2012/365\n",
      "/Volumes/OBS_Data/ZA/B15/Data/2011/365\n",
      "/Volumes/OBS_Data/ZA/B15/Data/2012/365\n",
      "/Volumes/OBS_Data/ZA/B16/Data/2011/365\n",
      "/Volumes/OBS_Data/ZA/B16/Data/2012/365\n",
      "/Volumes/OBS_Data/ZA/B17/Data/2011/365\n",
      "/Volumes/OBS_Data/ZA/B17/Data/2012/365\n",
      "/Volumes/OBS_Data/ZA/B18/Data/2011/365\n",
      "/Volumes/OBS_Data/ZA/B18/Data/2012/365\n",
      "/Volumes/OBS_Data/ZA/B19/Data/2011/365\n",
      "/Volumes/OBS_Data/ZA/B19/Data/2012/365\n",
      "/Volumes/OBS_Data/ZA/B20/Data/2011/365\n",
      "/Volumes/OBS_Data/ZA/B21/Data/2011/365\n",
      "/Volumes/OBS_Data/ZA/B21/Data/2012/365\n",
      "/Volumes/OBS_Data/ZA/B22/Data/2011/365\n",
      "/Volumes/OBS_Data/ZA/B22/Data/2012/365\n",
      "/Volumes/OBS_Data/ZA/B23/Data/2011/365\n",
      "/Volumes/OBS_Data/ZA/B23/Data/2012/365\n",
      "/Volumes/OBS_Data/ZA/B24/Data/2011/365\n",
      "/Volumes/OBS_Data/ZA/B25/Data/2011/365\n",
      "/Volumes/OBS_Data/ZA/B25/Data/2012/365\n",
      "/Volumes/OBS_Data/ZA/B26/Data/2011/365\n",
      "/Volumes/OBS_Data/ZA/B26/Data/2012/365\n"
     ]
    }
   ],
   "source": [
    "for STApath in sorted(glob.glob(f'{datapath}/*/*/Data/*/365')):\n",
    "    print(STApath)\n",
    "#     network = ?\n",
    "    \n",
    "#     STA = STApath.rsplit('/')[-1]\n",
    "\n",
    "#     if network == 'YM':\n",
    "#      elif  ( your condition):\n",
    "\n",
    "## short partices: please print the path of network='YM', year=2007 using if condition"
   ]
  },
  {
   "cell_type": "markdown",
   "id": "889f8c1b-445b-42b9-ba28-eac2e5d65bce",
   "metadata": {},
   "source": [
    "## Pandas: a module can read .csv/.txt ... "
   ]
  },
  {
   "cell_type": "code",
   "execution_count": 58,
   "id": "8646e509-ba25-4be6-919b-22deb9fcc205",
   "metadata": {},
   "outputs": [],
   "source": [
    "csvfile = '/Volumes/OBS_Data/ET/ET_stations_info.csv'"
   ]
  },
  {
   "cell_type": "code",
   "execution_count": 59,
   "id": "b1607454-3646-4507-b401-bd6e230e7e32",
   "metadata": {},
   "outputs": [],
   "source": [
    "df = pd.read_csv(csvfile)"
   ]
  },
  {
   "cell_type": "code",
   "execution_count": 62,
   "id": "3398f2d0-a2a8-4236-97c0-290f4c4faee8",
   "metadata": {},
   "outputs": [
    {
     "data": {
      "text/html": [
       "<div>\n",
       "<style scoped>\n",
       "    .dataframe tbody tr th:only-of-type {\n",
       "        vertical-align: middle;\n",
       "    }\n",
       "\n",
       "    .dataframe tbody tr th {\n",
       "        vertical-align: top;\n",
       "    }\n",
       "\n",
       "    .dataframe thead th {\n",
       "        text-align: right;\n",
       "    }\n",
       "</style>\n",
       "<table border=\"1\" class=\"dataframe\">\n",
       "  <thead>\n",
       "    <tr style=\"text-align: right;\">\n",
       "      <th></th>\n",
       "      <th>station</th>\n",
       "      <th>network</th>\n",
       "      <th>latitude</th>\n",
       "      <th>longitude</th>\n",
       "      <th>altitude</th>\n",
       "      <th>altitude_unit</th>\n",
       "      <th>description</th>\n",
       "      <th>sensor</th>\n",
       "      <th>recorder</th>\n",
       "      <th>deployment_time</th>\n",
       "      <th>note</th>\n",
       "      <th>data_quality</th>\n",
       "    </tr>\n",
       "  </thead>\n",
       "  <tbody>\n",
       "    <tr>\n",
       "      <th>0</th>\n",
       "      <td>ET00</td>\n",
       "      <td>ET</td>\n",
       "      <td>22.17110</td>\n",
       "      <td>121.12020</td>\n",
       "      <td>-1238</td>\n",
       "      <td>m</td>\n",
       "      <td>offshoreTaitung</td>\n",
       "      <td>trillium compact 120s</td>\n",
       "      <td>TORI</td>\n",
       "      <td>20201127-20211002</td>\n",
       "      <td>logger problem</td>\n",
       "      <td>NaN</td>\n",
       "    </tr>\n",
       "    <tr>\n",
       "      <th>1</th>\n",
       "      <td>ET02</td>\n",
       "      <td>ET</td>\n",
       "      <td>22.66920</td>\n",
       "      <td>121.29850</td>\n",
       "      <td>-1290</td>\n",
       "      <td>m</td>\n",
       "      <td>offshoreTaitung</td>\n",
       "      <td>trillium compact 120s</td>\n",
       "      <td>YB-IES</td>\n",
       "      <td>20201126-20211006</td>\n",
       "      <td>No data; logger crashed</td>\n",
       "      <td>NaN</td>\n",
       "    </tr>\n",
       "    <tr>\n",
       "      <th>2</th>\n",
       "      <td>ET03</td>\n",
       "      <td>ET</td>\n",
       "      <td>22.67220</td>\n",
       "      <td>121.27850</td>\n",
       "      <td>-1207</td>\n",
       "      <td>m</td>\n",
       "      <td>offshoreTaitung</td>\n",
       "      <td>trillium compact 120s</td>\n",
       "      <td>TORI</td>\n",
       "      <td>20201126-20211006</td>\n",
       "      <td>NaN</td>\n",
       "      <td>NaN</td>\n",
       "    </tr>\n",
       "    <tr>\n",
       "      <th>3</th>\n",
       "      <td>ET04</td>\n",
       "      <td>ET</td>\n",
       "      <td>22.69172</td>\n",
       "      <td>121.29575</td>\n",
       "      <td>-1188</td>\n",
       "      <td>m</td>\n",
       "      <td>offshoreTaitung</td>\n",
       "      <td>trillium compact 120s</td>\n",
       "      <td>TORI</td>\n",
       "      <td>20201126-</td>\n",
       "      <td>missing; float away</td>\n",
       "      <td>NaN</td>\n",
       "    </tr>\n",
       "    <tr>\n",
       "      <th>4</th>\n",
       "      <td>ET05</td>\n",
       "      <td>ET</td>\n",
       "      <td>22.78400</td>\n",
       "      <td>121.31920</td>\n",
       "      <td>-1084</td>\n",
       "      <td>m</td>\n",
       "      <td>offshoreTaitung</td>\n",
       "      <td>trillium compact 120s</td>\n",
       "      <td>YB-IES</td>\n",
       "      <td>20201126-20211005</td>\n",
       "      <td>NaN</td>\n",
       "      <td>NaN</td>\n",
       "    </tr>\n",
       "    <tr>\n",
       "      <th>5</th>\n",
       "      <td>ET07</td>\n",
       "      <td>ET</td>\n",
       "      <td>22.53050</td>\n",
       "      <td>122.27810</td>\n",
       "      <td>-4744</td>\n",
       "      <td>m</td>\n",
       "      <td>offshoreTaitung</td>\n",
       "      <td>trillium compact 120s</td>\n",
       "      <td>TORI</td>\n",
       "      <td>20201125-20211003</td>\n",
       "      <td>NaN</td>\n",
       "      <td>NaN</td>\n",
       "    </tr>\n",
       "    <tr>\n",
       "      <th>6</th>\n",
       "      <td>ET08</td>\n",
       "      <td>ET</td>\n",
       "      <td>21.92760</td>\n",
       "      <td>122.17720</td>\n",
       "      <td>-4373</td>\n",
       "      <td>m</td>\n",
       "      <td>offshoreTaitung</td>\n",
       "      <td>trillium compact 120s</td>\n",
       "      <td>TORI</td>\n",
       "      <td>20201125-</td>\n",
       "      <td>missing; no echo</td>\n",
       "      <td>NaN</td>\n",
       "    </tr>\n",
       "  </tbody>\n",
       "</table>\n",
       "</div>"
      ],
      "text/plain": [
       "  station network  latitude  longitude  altitude altitude_unit  \\\n",
       "0    ET00      ET  22.17110  121.12020     -1238             m   \n",
       "1    ET02      ET  22.66920  121.29850     -1290             m   \n",
       "2    ET03      ET  22.67220  121.27850     -1207             m   \n",
       "3    ET04      ET  22.69172  121.29575     -1188             m   \n",
       "4    ET05      ET  22.78400  121.31920     -1084             m   \n",
       "5    ET07      ET  22.53050  122.27810     -4744             m   \n",
       "6    ET08      ET  21.92760  122.17720     -4373             m   \n",
       "\n",
       "       description                 sensor recorder    deployment_time  \\\n",
       "0  offshoreTaitung  trillium compact 120s     TORI  20201127-20211002   \n",
       "1  offshoreTaitung  trillium compact 120s   YB-IES  20201126-20211006   \n",
       "2  offshoreTaitung  trillium compact 120s     TORI  20201126-20211006   \n",
       "3  offshoreTaitung  trillium compact 120s     TORI          20201126-   \n",
       "4  offshoreTaitung  trillium compact 120s   YB-IES  20201126-20211005   \n",
       "5  offshoreTaitung  trillium compact 120s     TORI  20201125-20211003   \n",
       "6  offshoreTaitung  trillium compact 120s     TORI          20201125-   \n",
       "\n",
       "                      note  data_quality  \n",
       "0           logger problem           NaN  \n",
       "1  No data; logger crashed           NaN  \n",
       "2                      NaN           NaN  \n",
       "3      missing; float away           NaN  \n",
       "4                      NaN           NaN  \n",
       "5                      NaN           NaN  \n",
       "6         missing; no echo           NaN  "
      ]
     },
     "execution_count": 62,
     "metadata": {},
     "output_type": "execute_result"
    }
   ],
   "source": [
    "df"
   ]
  },
  {
   "cell_type": "markdown",
   "id": "5c670a41-5511-4098-9e2b-359827baccda",
   "metadata": {},
   "source": [
    "### DataFrame: 用來處理雙維度的資料，也就是具有列(row)與欄(column)的資料集"
   ]
  },
  {
   "cell_type": "code",
   "execution_count": 63,
   "id": "d743bc08-cf02-427a-9fcf-7ee15d9061a6",
   "metadata": {},
   "outputs": [
    {
     "data": {
      "text/plain": [
       "pandas.core.frame.DataFrame"
      ]
     },
     "execution_count": 63,
     "metadata": {},
     "output_type": "execute_result"
    }
   ],
   "source": [
    "type(df)"
   ]
  },
  {
   "cell_type": "code",
   "execution_count": 75,
   "id": "9912a245-8897-4a91-afe7-4f5303165188",
   "metadata": {},
   "outputs": [
    {
     "data": {
      "text/plain": [
       "Index(['station', 'network', 'latitude', 'longitude', 'altitude',\n",
       "       'altitude_unit', 'description', 'sensor', 'recorder', 'deployment_time',\n",
       "       'note', 'data_quality'],\n",
       "      dtype='object')"
      ]
     },
     "execution_count": 75,
     "metadata": {},
     "output_type": "execute_result"
    }
   ],
   "source": [
    "# 查看所有的colunm名字\n",
    "df.columns"
   ]
  },
  {
   "cell_type": "markdown",
   "id": "84e6b1ca-7388-400d-b63d-65143accd983",
   "metadata": {},
   "source": [
    "### 讀取每一欄的內容"
   ]
  },
  {
   "cell_type": "code",
   "execution_count": 64,
   "id": "28f2c9d0-4a84-42d8-99fd-8f9abbd0c805",
   "metadata": {},
   "outputs": [
    {
     "data": {
      "text/plain": [
       "0    ET00\n",
       "1    ET02\n",
       "2    ET03\n",
       "3    ET04\n",
       "4    ET05\n",
       "5    ET07\n",
       "6    ET08\n",
       "Name: station, dtype: object"
      ]
     },
     "execution_count": 64,
     "metadata": {},
     "output_type": "execute_result"
    }
   ],
   "source": [
    "df['station']"
   ]
  },
  {
   "cell_type": "code",
   "execution_count": 78,
   "id": "fb00117a-9978-42b8-8d51-9efe4b0614fb",
   "metadata": {},
   "outputs": [
    {
     "name": "stdout",
     "output_type": "stream",
     "text": [
      "ET00\n",
      "ET07\n"
     ]
    }
   ],
   "source": [
    "print(df['station'].iloc[0])\n",
    "print(df['station'].iloc[5])"
   ]
  },
  {
   "cell_type": "markdown",
   "id": "5aa977d2-bce5-474e-a6ee-2a8398bcece6",
   "metadata": {},
   "source": [
    "### 設定條件得到某一個測站的所有內容"
   ]
  },
  {
   "cell_type": "code",
   "execution_count": 84,
   "id": "348bfe1f-16c9-4ef7-a463-2858885d38d1",
   "metadata": {},
   "outputs": [
    {
     "data": {
      "text/html": [
       "<div>\n",
       "<style scoped>\n",
       "    .dataframe tbody tr th:only-of-type {\n",
       "        vertical-align: middle;\n",
       "    }\n",
       "\n",
       "    .dataframe tbody tr th {\n",
       "        vertical-align: top;\n",
       "    }\n",
       "\n",
       "    .dataframe thead th {\n",
       "        text-align: right;\n",
       "    }\n",
       "</style>\n",
       "<table border=\"1\" class=\"dataframe\">\n",
       "  <thead>\n",
       "    <tr style=\"text-align: right;\">\n",
       "      <th></th>\n",
       "      <th>station</th>\n",
       "      <th>network</th>\n",
       "      <th>latitude</th>\n",
       "      <th>longitude</th>\n",
       "      <th>altitude</th>\n",
       "      <th>altitude_unit</th>\n",
       "      <th>description</th>\n",
       "      <th>sensor</th>\n",
       "      <th>recorder</th>\n",
       "      <th>deployment_time</th>\n",
       "      <th>note</th>\n",
       "      <th>data_quality</th>\n",
       "    </tr>\n",
       "  </thead>\n",
       "  <tbody>\n",
       "    <tr>\n",
       "      <th>0</th>\n",
       "      <td>ET00</td>\n",
       "      <td>ET</td>\n",
       "      <td>22.1711</td>\n",
       "      <td>121.1202</td>\n",
       "      <td>-1238</td>\n",
       "      <td>m</td>\n",
       "      <td>offshoreTaitung</td>\n",
       "      <td>trillium compact 120s</td>\n",
       "      <td>TORI</td>\n",
       "      <td>20201127-20211002</td>\n",
       "      <td>logger problem</td>\n",
       "      <td>NaN</td>\n",
       "    </tr>\n",
       "  </tbody>\n",
       "</table>\n",
       "</div>"
      ],
      "text/plain": [
       "  station network  latitude  longitude  altitude altitude_unit  \\\n",
       "0    ET00      ET   22.1711   121.1202     -1238             m   \n",
       "\n",
       "       description                 sensor recorder    deployment_time  \\\n",
       "0  offshoreTaitung  trillium compact 120s     TORI  20201127-20211002   \n",
       "\n",
       "             note  data_quality  \n",
       "0  logger problem           NaN  "
      ]
     },
     "execution_count": 84,
     "metadata": {},
     "output_type": "execute_result"
    }
   ],
   "source": [
    "df[df['station']=='ET00']"
   ]
  },
  {
   "cell_type": "code",
   "execution_count": 87,
   "id": "84aa5c2f-c5ef-4d96-b035-d1c7f84f05a0",
   "metadata": {},
   "outputs": [
    {
     "name": "stdout",
     "output_type": "stream",
     "text": [
      "ET.ET00: 121.1202, 22.1711, -1238m\n",
      "ET.ET02: 121.2985, 22.6692, -1290m\n",
      "ET.ET03: 121.2785, 22.6722, -1207m\n",
      "/Volumes/OBS_Data/ET/ET03\n",
      "ET.ET04: 121.29575, 22.69172, -1188m\n",
      "ET.ET05: 121.3192, 22.784, -1084m\n",
      "/Volumes/OBS_Data/ET/ET05\n",
      "ET.ET07: 122.2781, 22.5305, -4744m\n",
      "/Volumes/OBS_Data/ET/ET07\n",
      "ET.ET08: 122.1772, 21.9276, -4373m\n"
     ]
    }
   ],
   "source": [
    "for i in range(len(df)):\n",
    "    NET = df['network'].iloc[i]\n",
    "    STA = df['station'].iloc[i]\n",
    "\n",
    "### please set the variables and print them : lon, lat, alt \n",
    "\n",
    "    print(f'{NET}.{STA}: {lon}, {lat}, {alt}m')\n",
    "    \n",
    "#     for stapath in sorted(glob.glob(f'{datapath}/......')):\n",
    "#         print(stapath)\n",
    "        \n",
    "\n",
    "### short partices: please print the HHZ comp. data on 2021/007 of all avaliable stations by for loop"
   ]
  },
  {
   "cell_type": "code",
   "execution_count": 89,
   "id": "b8f6bd7d-76c0-4d34-aa5c-e3713f3ae1e9",
   "metadata": {},
   "outputs": [
    {
     "data": {
      "text/plain": [
       "['/Volumes/OBS_Data/OT/TW_all_BB_OBS_info.csv',\n",
       " '/Volumes/OBS_Data/OT/OT_stations_info.csv']"
      ]
     },
     "execution_count": 89,
     "metadata": {},
     "output_type": "execute_result"
    }
   ],
   "source": [
    "glob.glob(f'{datapath}/{network}/*csv')"
   ]
  },
  {
   "cell_type": "code",
   "execution_count": null,
   "id": "9bb9f136-d9f7-4655-bc80-1c15293185d1",
   "metadata": {},
   "outputs": [],
   "source": []
  }
 ],
 "metadata": {
  "kernelspec": {
   "display_name": "Python 3 (ipykernel)",
   "language": "python",
   "name": "python3"
  },
  "language_info": {
   "codemirror_mode": {
    "name": "ipython",
    "version": 3
   },
   "file_extension": ".py",
   "mimetype": "text/x-python",
   "name": "python",
   "nbconvert_exporter": "python",
   "pygments_lexer": "ipython3",
   "version": "3.9.6"
  }
 },
 "nbformat": 4,
 "nbformat_minor": 5
}
