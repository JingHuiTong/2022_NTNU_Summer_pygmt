{
 "cells": [
  {
   "cell_type": "markdown",
   "id": "01fb231e-0573-486a-b6d7-405e12c2d099",
   "metadata": {},
   "source": [
    "# Exercise\n",
    "###### Jing-Hui Tong 2022/06/17\n"
   ]
  },
  {
   "cell_type": "markdown",
   "id": "36d5110b-b4b4-4549-be2c-ff71ae1a8ec7",
   "metadata": {},
   "source": [
    "#### request\n",
    "1. file=/Volumes/OBS_Data/OT/OT_stations_info.csv\n",
    "2. read the file and tell me the shallowest/deepest OBS information (network,OT??,lon,lat,elevation)\n",
    "*** hint: you may use forloop, if condition ***  \n",
    "\n",
    "##### ------------ pygmt ------------   \n",
    "3. set region to plot **OT network**, please use suitable projection  \n",
    "4. Using `makecpt` and output cptfile  \n",
    "5. Using `grdcut` and output grdfile  \n",
    "6. Using `grdimage` (input 5& 6 file)  \n",
    "7. Plot the station location and save your figure\n",
    "\n",
    "*** hint: Not only use these functions, you can add more! ***"
   ]
  },
  {
   "cell_type": "code",
   "execution_count": null,
   "id": "d50f8e12-93fe-4600-8112-9a5a6a8d58d2",
   "metadata": {},
   "outputs": [],
   "source": []
  }
 ],
 "metadata": {
  "kernelspec": {
   "display_name": "Python 3 (ipykernel)",
   "language": "python",
   "name": "python3"
  },
  "language_info": {
   "codemirror_mode": {
    "name": "ipython",
    "version": 3
   },
   "file_extension": ".py",
   "mimetype": "text/x-python",
   "name": "python",
   "nbconvert_exporter": "python",
   "pygments_lexer": "ipython3",
   "version": "3.9.6"
  }
 },
 "nbformat": 4,
 "nbformat_minor": 5
}
